{
 "cells": [
  {
   "cell_type": "code",
   "execution_count": 1,
   "id": "a44ba795",
   "metadata": {},
   "outputs": [],
   "source": [
    "import pandas as pd\n",
    "import seaborn as sns\n",
    "import matplotlib.pyplot as plt\n",
    "%matplotlib inline"
   ]
  },
  {
   "cell_type": "markdown",
   "id": "a272e20f",
   "metadata": {},
   "source": [
    "# Netflix Shows Analysis\n",
    "Source: Kaggle Dataset"
   ]
  },
  {
   "cell_type": "code",
   "execution_count": 2,
   "id": "c02f6a68",
   "metadata": {},
   "outputs": [],
   "source": [
    "netflix_data = pd.read_csv(\"netflix_titles.csv\")\n",
    "netflix_data['date_added'] = pd.to_datetime(netflix_data['date_added'], infer_datetime_format=True)"
   ]
  },
  {
   "cell_type": "code",
   "execution_count": 3,
   "id": "7c33dd56",
   "metadata": {},
   "outputs": [
    {
     "data": {
      "text/html": [
       "<div>\n",
       "<style scoped>\n",
       "    .dataframe tbody tr th:only-of-type {\n",
       "        vertical-align: middle;\n",
       "    }\n",
       "\n",
       "    .dataframe tbody tr th {\n",
       "        vertical-align: top;\n",
       "    }\n",
       "\n",
       "    .dataframe thead th {\n",
       "        text-align: right;\n",
       "    }\n",
       "</style>\n",
       "<table border=\"1\" class=\"dataframe\">\n",
       "  <thead>\n",
       "    <tr style=\"text-align: right;\">\n",
       "      <th></th>\n",
       "      <th>show_id</th>\n",
       "      <th>type</th>\n",
       "      <th>title</th>\n",
       "      <th>director</th>\n",
       "      <th>cast</th>\n",
       "      <th>country</th>\n",
       "      <th>date_added</th>\n",
       "      <th>release_year</th>\n",
       "      <th>rating</th>\n",
       "      <th>duration</th>\n",
       "      <th>listed_in</th>\n",
       "      <th>description</th>\n",
       "    </tr>\n",
       "  </thead>\n",
       "  <tbody>\n",
       "    <tr>\n",
       "      <th>0</th>\n",
       "      <td>s1</td>\n",
       "      <td>Movie</td>\n",
       "      <td>Dick Johnson Is Dead</td>\n",
       "      <td>Kirsten Johnson</td>\n",
       "      <td>NaN</td>\n",
       "      <td>United States</td>\n",
       "      <td>2021-09-25</td>\n",
       "      <td>2020</td>\n",
       "      <td>PG-13</td>\n",
       "      <td>90 min</td>\n",
       "      <td>Documentaries</td>\n",
       "      <td>As her father nears the end of his life, filmm...</td>\n",
       "    </tr>\n",
       "    <tr>\n",
       "      <th>1</th>\n",
       "      <td>s2</td>\n",
       "      <td>TV Show</td>\n",
       "      <td>Blood &amp; Water</td>\n",
       "      <td>NaN</td>\n",
       "      <td>Ama Qamata, Khosi Ngema, Gail Mabalane, Thaban...</td>\n",
       "      <td>South Africa</td>\n",
       "      <td>2021-09-24</td>\n",
       "      <td>2021</td>\n",
       "      <td>TV-MA</td>\n",
       "      <td>2 Seasons</td>\n",
       "      <td>International TV Shows, TV Dramas, TV Mysteries</td>\n",
       "      <td>After crossing paths at a party, a Cape Town t...</td>\n",
       "    </tr>\n",
       "    <tr>\n",
       "      <th>2</th>\n",
       "      <td>s3</td>\n",
       "      <td>TV Show</td>\n",
       "      <td>Ganglands</td>\n",
       "      <td>Julien Leclercq</td>\n",
       "      <td>Sami Bouajila, Tracy Gotoas, Samuel Jouy, Nabi...</td>\n",
       "      <td>NaN</td>\n",
       "      <td>2021-09-24</td>\n",
       "      <td>2021</td>\n",
       "      <td>TV-MA</td>\n",
       "      <td>1 Season</td>\n",
       "      <td>Crime TV Shows, International TV Shows, TV Act...</td>\n",
       "      <td>To protect his family from a powerful drug lor...</td>\n",
       "    </tr>\n",
       "  </tbody>\n",
       "</table>\n",
       "</div>"
      ],
      "text/plain": [
       "  show_id     type                 title         director  \\\n",
       "0      s1    Movie  Dick Johnson Is Dead  Kirsten Johnson   \n",
       "1      s2  TV Show         Blood & Water              NaN   \n",
       "2      s3  TV Show             Ganglands  Julien Leclercq   \n",
       "\n",
       "                                                cast        country  \\\n",
       "0                                                NaN  United States   \n",
       "1  Ama Qamata, Khosi Ngema, Gail Mabalane, Thaban...   South Africa   \n",
       "2  Sami Bouajila, Tracy Gotoas, Samuel Jouy, Nabi...            NaN   \n",
       "\n",
       "  date_added  release_year rating   duration  \\\n",
       "0 2021-09-25          2020  PG-13     90 min   \n",
       "1 2021-09-24          2021  TV-MA  2 Seasons   \n",
       "2 2021-09-24          2021  TV-MA   1 Season   \n",
       "\n",
       "                                           listed_in  \\\n",
       "0                                      Documentaries   \n",
       "1    International TV Shows, TV Dramas, TV Mysteries   \n",
       "2  Crime TV Shows, International TV Shows, TV Act...   \n",
       "\n",
       "                                         description  \n",
       "0  As her father nears the end of his life, filmm...  \n",
       "1  After crossing paths at a party, a Cape Town t...  \n",
       "2  To protect his family from a powerful drug lor...  "
      ]
     },
     "execution_count": 3,
     "metadata": {},
     "output_type": "execute_result"
    }
   ],
   "source": [
    "netflix_data.head(3)"
   ]
  },
  {
   "cell_type": "code",
   "execution_count": 4,
   "id": "e71c7f27",
   "metadata": {},
   "outputs": [
    {
     "data": {
      "text/plain": [
       "show_id                 object\n",
       "type                    object\n",
       "title                   object\n",
       "director                object\n",
       "cast                    object\n",
       "country                 object\n",
       "date_added      datetime64[ns]\n",
       "release_year             int64\n",
       "rating                  object\n",
       "duration                object\n",
       "listed_in               object\n",
       "description             object\n",
       "dtype: object"
      ]
     },
     "execution_count": 4,
     "metadata": {},
     "output_type": "execute_result"
    }
   ],
   "source": [
    "# date_added columns datatype changed from object to datetime64 for extracting months and dates for analysis.\n",
    "netflix_data.dtypes"
   ]
  },
  {
   "cell_type": "code",
   "execution_count": 5,
   "id": "9460c94d",
   "metadata": {},
   "outputs": [
    {
     "data": {
      "text/plain": [
       "show_id            0\n",
       "type               0\n",
       "title              0\n",
       "director        2634\n",
       "cast             825\n",
       "country          831\n",
       "date_added        10\n",
       "release_year       0\n",
       "rating             4\n",
       "duration           3\n",
       "listed_in          0\n",
       "description        0\n",
       "dtype: int64"
      ]
     },
     "execution_count": 5,
     "metadata": {},
     "output_type": "execute_result"
    }
   ],
   "source": [
    "netflix_data.isna().sum()"
   ]
  },
  {
   "cell_type": "code",
   "execution_count": 6,
   "id": "fdb81072",
   "metadata": {},
   "outputs": [],
   "source": [
    "# Extract month from date_added column.\n",
    "netflix_data[\"date_added_month\"]=netflix_data[\"date_added\"].dt.month.fillna(0)"
   ]
  },
  {
   "cell_type": "code",
   "execution_count": 7,
   "id": "1f069914",
   "metadata": {},
   "outputs": [],
   "source": [
    "# Extract date from date_added column.\n",
    "netflix_data[\"date_added_day\"]=netflix_data[\"date_added\"].dt.day.fillna(0)"
   ]
  },
  {
   "cell_type": "markdown",
   "id": "a1cf9a78",
   "metadata": {},
   "source": [
    "# Data Wrangling\n",
    "Created a copy of dataset as a netflix_cp.\n",
    "NaN values filled as a \"No Data\" in Country, Director and Cast columns.\n",
    "Few rows entirely dropped."
   ]
  },
  {
   "cell_type": "code",
   "execution_count": 8,
   "id": "dfd6e336",
   "metadata": {},
   "outputs": [],
   "source": [
    "netflix_cp = netflix_data.copy()"
   ]
  },
  {
   "cell_type": "code",
   "execution_count": 9,
   "id": "3ecc4fe2",
   "metadata": {},
   "outputs": [],
   "source": [
    "netflix_cp[\"country\"].fillna(\"No Data\", inplace=True)\n",
    "netflix_cp[\"director\"].fillna(\"No Data\", inplace=True)\n",
    "netflix_cp[\"cast\"].fillna(\"No Data\", inplace=True)"
   ]
  },
  {
   "cell_type": "code",
   "execution_count": 10,
   "id": "d6350335",
   "metadata": {},
   "outputs": [],
   "source": [
    "netflix_cp[\"date_added\"].fillna(netflix_cp[\"date_added\"].mode()[0], inplace=True)"
   ]
  },
  {
   "cell_type": "code",
   "execution_count": 11,
   "id": "694c7e7c",
   "metadata": {},
   "outputs": [],
   "source": [
    "netflix_cp.dropna(subset=[\"rating\"], inplace=True)\n",
    "netflix_cp.dropna(subset=[\"duration\"], inplace=True)"
   ]
  },
  {
   "cell_type": "code",
   "execution_count": 12,
   "id": "a3951607",
   "metadata": {},
   "outputs": [
    {
     "data": {
      "text/plain": [
       "show_id             0\n",
       "type                0\n",
       "title               0\n",
       "director            0\n",
       "cast                0\n",
       "country             0\n",
       "date_added          0\n",
       "release_year        0\n",
       "rating              0\n",
       "duration            0\n",
       "listed_in           0\n",
       "description         0\n",
       "date_added_month    0\n",
       "date_added_day      0\n",
       "dtype: int64"
      ]
     },
     "execution_count": 12,
     "metadata": {},
     "output_type": "execute_result"
    }
   ],
   "source": [
    "netflix_cp.isna().sum()"
   ]
  },
  {
   "cell_type": "code",
   "execution_count": 13,
   "id": "eefd9dcc",
   "metadata": {},
   "outputs": [
    {
     "data": {
      "text/html": [
       "<div>\n",
       "<style scoped>\n",
       "    .dataframe tbody tr th:only-of-type {\n",
       "        vertical-align: middle;\n",
       "    }\n",
       "\n",
       "    .dataframe tbody tr th {\n",
       "        vertical-align: top;\n",
       "    }\n",
       "\n",
       "    .dataframe thead th {\n",
       "        text-align: right;\n",
       "    }\n",
       "</style>\n",
       "<table border=\"1\" class=\"dataframe\">\n",
       "  <thead>\n",
       "    <tr style=\"text-align: right;\">\n",
       "      <th></th>\n",
       "      <th>show_id</th>\n",
       "      <th>type</th>\n",
       "      <th>title</th>\n",
       "      <th>director</th>\n",
       "      <th>cast</th>\n",
       "      <th>country</th>\n",
       "      <th>date_added</th>\n",
       "      <th>release_year</th>\n",
       "      <th>rating</th>\n",
       "      <th>duration</th>\n",
       "      <th>listed_in</th>\n",
       "      <th>description</th>\n",
       "      <th>date_added_month</th>\n",
       "      <th>date_added_day</th>\n",
       "    </tr>\n",
       "  </thead>\n",
       "  <tbody>\n",
       "    <tr>\n",
       "      <th>4250</th>\n",
       "      <td>s4251</td>\n",
       "      <td>TV Show</td>\n",
       "      <td>Pioneers: First Women Filmmakers*</td>\n",
       "      <td>No Data</td>\n",
       "      <td>No Data</td>\n",
       "      <td>No Data</td>\n",
       "      <td>2018-12-30</td>\n",
       "      <td>1925</td>\n",
       "      <td>TV-14</td>\n",
       "      <td>1 Season</td>\n",
       "      <td>TV Shows</td>\n",
       "      <td>This collection restores films from women who ...</td>\n",
       "      <td>12.0</td>\n",
       "      <td>30.0</td>\n",
       "    </tr>\n",
       "    <tr>\n",
       "      <th>7790</th>\n",
       "      <td>s7791</td>\n",
       "      <td>Movie</td>\n",
       "      <td>Prelude to War</td>\n",
       "      <td>Frank Capra</td>\n",
       "      <td>No Data</td>\n",
       "      <td>United States</td>\n",
       "      <td>2017-03-31</td>\n",
       "      <td>1942</td>\n",
       "      <td>TV-14</td>\n",
       "      <td>52 min</td>\n",
       "      <td>Classic Movies, Documentaries</td>\n",
       "      <td>Frank Capra's documentary chronicles the rise ...</td>\n",
       "      <td>3.0</td>\n",
       "      <td>31.0</td>\n",
       "    </tr>\n",
       "    <tr>\n",
       "      <th>8205</th>\n",
       "      <td>s8206</td>\n",
       "      <td>Movie</td>\n",
       "      <td>The Battle of Midway</td>\n",
       "      <td>John Ford</td>\n",
       "      <td>Henry Fonda, Jane Darwell</td>\n",
       "      <td>United States</td>\n",
       "      <td>2017-03-31</td>\n",
       "      <td>1942</td>\n",
       "      <td>TV-14</td>\n",
       "      <td>18 min</td>\n",
       "      <td>Classic Movies, Documentaries</td>\n",
       "      <td>Director John Ford captures combat footage of ...</td>\n",
       "      <td>3.0</td>\n",
       "      <td>31.0</td>\n",
       "    </tr>\n",
       "  </tbody>\n",
       "</table>\n",
       "</div>"
      ],
      "text/plain": [
       "     show_id     type                              title     director  \\\n",
       "4250   s4251  TV Show  Pioneers: First Women Filmmakers*      No Data   \n",
       "7790   s7791    Movie                     Prelude to War  Frank Capra   \n",
       "8205   s8206    Movie               The Battle of Midway    John Ford   \n",
       "\n",
       "                           cast        country date_added  release_year  \\\n",
       "4250                    No Data        No Data 2018-12-30          1925   \n",
       "7790                    No Data  United States 2017-03-31          1942   \n",
       "8205  Henry Fonda, Jane Darwell  United States 2017-03-31          1942   \n",
       "\n",
       "     rating  duration                      listed_in  \\\n",
       "4250  TV-14  1 Season                       TV Shows   \n",
       "7790  TV-14    52 min  Classic Movies, Documentaries   \n",
       "8205  TV-14    18 min  Classic Movies, Documentaries   \n",
       "\n",
       "                                            description  date_added_month  \\\n",
       "4250  This collection restores films from women who ...              12.0   \n",
       "7790  Frank Capra's documentary chronicles the rise ...               3.0   \n",
       "8205  Director John Ford captures combat footage of ...               3.0   \n",
       "\n",
       "      date_added_day  \n",
       "4250            30.0  \n",
       "7790            31.0  \n",
       "8205            31.0  "
      ]
     },
     "execution_count": 13,
     "metadata": {},
     "output_type": "execute_result"
    }
   ],
   "source": [
    "netflix_cp.sort_values(by=\"release_year\").head(3)"
   ]
  },
  {
   "cell_type": "code",
   "execution_count": 14,
   "id": "03335af0",
   "metadata": {},
   "outputs": [
    {
     "data": {
      "text/html": [
       "<div>\n",
       "<style scoped>\n",
       "    .dataframe tbody tr th:only-of-type {\n",
       "        vertical-align: middle;\n",
       "    }\n",
       "\n",
       "    .dataframe tbody tr th {\n",
       "        vertical-align: top;\n",
       "    }\n",
       "\n",
       "    .dataframe thead th {\n",
       "        text-align: right;\n",
       "    }\n",
       "</style>\n",
       "<table border=\"1\" class=\"dataframe\">\n",
       "  <thead>\n",
       "    <tr style=\"text-align: right;\">\n",
       "      <th></th>\n",
       "      <th>TV-MA</th>\n",
       "      <th>TV-14</th>\n",
       "      <th>TV-PG</th>\n",
       "      <th>R</th>\n",
       "      <th>PG-13</th>\n",
       "      <th>TV-Y7</th>\n",
       "      <th>TV-Y</th>\n",
       "      <th>PG</th>\n",
       "      <th>TV-G</th>\n",
       "      <th>NR</th>\n",
       "      <th>G</th>\n",
       "      <th>TV-Y7-FV</th>\n",
       "      <th>NC-17</th>\n",
       "      <th>UR</th>\n",
       "    </tr>\n",
       "  </thead>\n",
       "  <tbody>\n",
       "    <tr>\n",
       "      <th>rating</th>\n",
       "      <td>3207</td>\n",
       "      <td>2160</td>\n",
       "      <td>863</td>\n",
       "      <td>799</td>\n",
       "      <td>490</td>\n",
       "      <td>334</td>\n",
       "      <td>307</td>\n",
       "      <td>287</td>\n",
       "      <td>220</td>\n",
       "      <td>80</td>\n",
       "      <td>41</td>\n",
       "      <td>6</td>\n",
       "      <td>3</td>\n",
       "      <td>3</td>\n",
       "    </tr>\n",
       "  </tbody>\n",
       "</table>\n",
       "</div>"
      ],
      "text/plain": [
       "        TV-MA  TV-14  TV-PG    R  PG-13  TV-Y7  TV-Y   PG  TV-G  NR   G  \\\n",
       "rating   3207   2160    863  799    490    334   307  287   220  80  41   \n",
       "\n",
       "        TV-Y7-FV  NC-17  UR  \n",
       "rating         6      3   3  "
      ]
     },
     "execution_count": 14,
     "metadata": {},
     "output_type": "execute_result"
    }
   ],
   "source": [
    "netflix_cp[\"rating\"].value_counts().to_frame().transpose()"
   ]
  },
  {
   "cell_type": "code",
   "execution_count": 15,
   "id": "3e367f63",
   "metadata": {},
   "outputs": [
    {
     "data": {
      "text/html": [
       "<div>\n",
       "<style scoped>\n",
       "    .dataframe tbody tr th:only-of-type {\n",
       "        vertical-align: middle;\n",
       "    }\n",
       "\n",
       "    .dataframe tbody tr th {\n",
       "        vertical-align: top;\n",
       "    }\n",
       "\n",
       "    .dataframe thead th {\n",
       "        text-align: right;\n",
       "    }\n",
       "</style>\n",
       "<table border=\"1\" class=\"dataframe\">\n",
       "  <thead>\n",
       "    <tr style=\"text-align: right;\">\n",
       "      <th></th>\n",
       "      <th>count</th>\n",
       "      <th>mean</th>\n",
       "      <th>std</th>\n",
       "      <th>min</th>\n",
       "      <th>25%</th>\n",
       "      <th>50%</th>\n",
       "      <th>75%</th>\n",
       "      <th>max</th>\n",
       "    </tr>\n",
       "  </thead>\n",
       "  <tbody>\n",
       "    <tr>\n",
       "      <th>release_year</th>\n",
       "      <td>8800.0</td>\n",
       "      <td>2014.179886</td>\n",
       "      <td>8.822583</td>\n",
       "      <td>1925.0</td>\n",
       "      <td>2013.0</td>\n",
       "      <td>2017.0</td>\n",
       "      <td>2019.0</td>\n",
       "      <td>2021.0</td>\n",
       "    </tr>\n",
       "  </tbody>\n",
       "</table>\n",
       "</div>"
      ],
      "text/plain": [
       "               count         mean       std     min     25%     50%     75%  \\\n",
       "release_year  8800.0  2014.179886  8.822583  1925.0  2013.0  2017.0  2019.0   \n",
       "\n",
       "                 max  \n",
       "release_year  2021.0  "
      ]
     },
     "execution_count": 15,
     "metadata": {},
     "output_type": "execute_result"
    }
   ],
   "source": [
    "netflix_cp[\"release_year\"].describe().to_frame().transpose()"
   ]
  },
  {
   "cell_type": "code",
   "execution_count": 16,
   "id": "e7c4974e",
   "metadata": {},
   "outputs": [
    {
     "data": {
      "text/plain": [
       "0       [United States]\n",
       "1        [South Africa]\n",
       "2             [No Data]\n",
       "3             [No Data]\n",
       "4               [India]\n",
       "             ...       \n",
       "8802    [United States]\n",
       "8803          [No Data]\n",
       "8804    [United States]\n",
       "8805    [United States]\n",
       "8806            [India]\n",
       "Name: country, Length: 8800, dtype: object"
      ]
     },
     "execution_count": 16,
     "metadata": {},
     "output_type": "execute_result"
    }
   ],
   "source": [
    "# Country column data munging\n",
    "netflix_cp['country'].str.split(\",\")"
   ]
  },
  {
   "cell_type": "code",
   "execution_count": 17,
   "id": "311cd916",
   "metadata": {},
   "outputs": [
    {
     "data": {
      "text/html": [
       "<div>\n",
       "<style scoped>\n",
       "    .dataframe tbody tr th:only-of-type {\n",
       "        vertical-align: middle;\n",
       "    }\n",
       "\n",
       "    .dataframe tbody tr th {\n",
       "        vertical-align: top;\n",
       "    }\n",
       "\n",
       "    .dataframe thead th {\n",
       "        text-align: right;\n",
       "    }\n",
       "</style>\n",
       "<table border=\"1\" class=\"dataframe\">\n",
       "  <thead>\n",
       "    <tr style=\"text-align: right;\">\n",
       "      <th></th>\n",
       "      <th>United States</th>\n",
       "      <th>India</th>\n",
       "      <th>No Data</th>\n",
       "      <th>United Kingdom</th>\n",
       "      <th>Japan</th>\n",
       "      <th>South Korea</th>\n",
       "      <th>Canada</th>\n",
       "      <th>Spain</th>\n",
       "      <th>France</th>\n",
       "      <th>Mexico</th>\n",
       "    </tr>\n",
       "  </thead>\n",
       "  <tbody>\n",
       "    <tr>\n",
       "      <th>country</th>\n",
       "      <td>2815</td>\n",
       "      <td>972</td>\n",
       "      <td>830</td>\n",
       "      <td>419</td>\n",
       "      <td>244</td>\n",
       "      <td>199</td>\n",
       "      <td>181</td>\n",
       "      <td>145</td>\n",
       "      <td>124</td>\n",
       "      <td>110</td>\n",
       "    </tr>\n",
       "  </tbody>\n",
       "</table>\n",
       "</div>"
      ],
      "text/plain": [
       "         United States  India  No Data  United Kingdom  Japan  South Korea  \\\n",
       "country           2815    972      830             419    244          199   \n",
       "\n",
       "         Canada  Spain  France  Mexico  \n",
       "country     181    145     124     110  "
      ]
     },
     "execution_count": 17,
     "metadata": {},
     "output_type": "execute_result"
    }
   ],
   "source": [
    "netflix_cp[\"country\"].value_counts().head(10).to_frame().transpose()"
   ]
  },
  {
   "cell_type": "code",
   "execution_count": 18,
   "id": "1ccebded",
   "metadata": {},
   "outputs": [],
   "source": [
    "# Listed_in column data munging\n",
    "listedin_split = netflix_cp['listed_in'].str.split(\",\")"
   ]
  },
  {
   "cell_type": "code",
   "execution_count": 19,
   "id": "7a92192a",
   "metadata": {},
   "outputs": [],
   "source": [
    "genre_data = netflix_cp[\"listed_in\"].value_counts().head(10).reset_index()"
   ]
  },
  {
   "cell_type": "code",
   "execution_count": 20,
   "id": "98cd90c5",
   "metadata": {},
   "outputs": [],
   "source": [
    "genre=pd.DataFrame(genre_data)"
   ]
  },
  {
   "cell_type": "code",
   "execution_count": 21,
   "id": "fa50957a",
   "metadata": {},
   "outputs": [],
   "source": [
    "genre.rename(columns={\"index\":\"Genre\", \"listed_in\":\"Count\"}, inplace=True)"
   ]
  },
  {
   "cell_type": "markdown",
   "id": "7aa3796b",
   "metadata": {},
   "source": [
    "#  Netflix Data Visualization"
   ]
  },
  {
   "cell_type": "code",
   "execution_count": 22,
   "id": "4dd41490",
   "metadata": {},
   "outputs": [
    {
     "data": {
      "image/png": "[encoded data removed]",
      "text/plain": [
       "<Figure size 576x360 with 1 Axes>"
      ]
     },
     "metadata": {
      "needs_background": "light"
     },
     "output_type": "display_data"
    }
   ],
   "source": [
    "plt.figure(figsize=(8,5))\n",
    "sns.set_style('dark')\n",
    "sns.histplot(data=netflix_data, x=\"release_year\", color=\"tomato\", bins=35)\n",
    "plt.xlabel( \"Year Of Show Listed\", size = 12 )\n",
    "plt.ylabel( \"Count\", size = 12 )\n",
    "plt.title( \"Netflix Shows Release Year\", size = 18 )\n",
    "plt.show()"
   ]
  },
  {
   "cell_type": "code",
   "execution_count": 23,
   "id": "936df20c",
   "metadata": {},
   "outputs": [
    {
     "data": {
      "image/png": "[encoded data removed]",
      "text/plain": [
       "<Figure size 576x360 with 1 Axes>"
      ]
     },
     "metadata": {},
     "output_type": "display_data"
    }
   ],
   "source": [
    "plt.figure(figsize=(8,5))\n",
    "sns.set_style('dark')\n",
    "sns.histplot(data=netflix_data, x=\"date_added_day\", hue=\"type\",bins=30)\n",
    "plt.xlabel( \"Date Of Show;s Listed\", size = 12 )\n",
    "plt.ylabel( \"Count\", size = 12 )\n",
    "plt.title( \"Show Added Date\", size = 18 )\n",
    "plt.show()"
   ]
  },
  {
   "cell_type": "code",
   "execution_count": 24,
   "id": "635ec0af",
   "metadata": {},
   "outputs": [
    {
     "data": {
      "image/png": "[encoded data removed]",
      "text/plain": [
       "<Figure size 576x360 with 1 Axes>"
      ]
     },
     "metadata": {},
     "output_type": "display_data"
    }
   ],
   "source": [
    "plt.figure(figsize=(8,5))\n",
    "sns.set_style('dark')\n",
    "sns.histplot(data=netflix_data, x=\"date_added\", hue=\"date_added_month\", palette=\"dark\",multiple=\"stack\",bins=25)\n",
    "plt.xlabel( \"Year Of Show Listed\", size = 12 )\n",
    "plt.ylabel( \"Count\", size = 12 )\n",
    "plt.title( \"Netflix Shows Listed Year\", size = 18 )\n",
    "plt.show()"
   ]
  },
  {
   "cell_type": "code",
   "execution_count": 25,
   "id": "6ce307e7",
   "metadata": {},
   "outputs": [
    {
     "data": {
      "image/png": "[encoded data removed]",
      "text/plain": [
       "<Figure size 432x288 with 1 Axes>"
      ]
     },
     "metadata": {},
     "output_type": "display_data"
    }
   ],
   "source": [
    "sns.set_style('dark')\n",
    "sns.countplot(data=netflix_cp, x=\"type\", linewidth=5, palette=\"rocket\", edgecolor=sns.color_palette(\"BuPu_r\", 3))\n",
    "plt.xlabel( \"Count\" , size = 12 )\n",
    "plt.ylabel( \"Type of Show\" , size = 12 )\n",
    "plt.title( \"Netflix Shows By Type\", size = 18 )\n",
    "plt.show()"
   ]
  },
  {
   "cell_type": "code",
   "execution_count": 26,
   "id": "ef251289",
   "metadata": {},
   "outputs": [
    {
     "data": {
      "image/png": "[encoded data removed]",
      "text/plain": [
       "<Figure size 576x360 with 1 Axes>"
      ]
     },
     "metadata": {},
     "output_type": "display_data"
    }
   ],
   "source": [
    "sns.set_style('dark')\n",
    "plt.figure(figsize=(8,5))\n",
    "sns.countplot(data=netflix_cp, y=\"rating\", palette=\"dark\")\n",
    "plt.xlabel( \"Count\" , size = 12 )\n",
    "plt.ylabel( \"Rating\" , size = 12 )\n",
    "plt.title( \"Netflix Shows By Rating\", size = 18 )\n",
    "plt.show()"
   ]
  },
  {
   "cell_type": "code",
   "execution_count": 27,
   "id": "24820402",
   "metadata": {},
   "outputs": [
    {
     "data": {
      "image/png": "[encoded data removed]",
      "text/plain": [
       "<Figure size 576x360 with 1 Axes>"
      ]
     },
     "metadata": {},
     "output_type": "display_data"
    }
   ],
   "source": [
    "plt.figure(figsize=(8,5))\n",
    "sns.set_style('dark')\n",
    "country_top=['United States','India', 'United Kingdom','Japan','South Korea','Canada', 'Spain', 'France', 'Mexico']\n",
    "sns.countplot(data=netflix_cp, y=\"country\", palette=\"dark\", order= country_top, hue='type')\n",
    "plt.xlabel( \"Count\", size = 12 )\n",
    "plt.ylabel( \"Country\", size = 12 )\n",
    "plt.title( \"Netflix Shows By Country\", size = 18 )\n",
    "plt.show()"
   ]
  },
  {
   "cell_type": "code",
   "execution_count": 28,
   "id": "72573d64",
   "metadata": {},
   "outputs": [
    {
     "data": {
      "image/png": "[encoded data removed]",
      "text/plain": [
       "<Figure size 576x360 with 1 Axes>"
      ]
     },
     "metadata": {},
     "output_type": "display_data"
    }
   ],
   "source": [
    "plt.figure(figsize=(8,5))\n",
    "sns.set_style('dark')\n",
    "sns.barplot(data=genre, y=\"Genre\", x=\"Count\", palette=\"dark\")\n",
    "plt.xlabel( \"Genre\" , size = 12 )\n",
    "plt.ylabel( \"Count\" , size = 12 )\n",
    "plt.title( \"Netflix-Genre's \" , size = 18 )\n",
    "plt.show()"
   ]
  }
 ],
 "metadata": {
  "kernelspec": {
   "display_name": "Python 3 (ipykernel)",
   "language": "python",
   "name": "python3"
  },
  "language_info": {
   "codemirror_mode": {
    "name": "ipython",
    "version": 3
   },
   "file_extension": ".py",
   "mimetype": "text/x-python",
   "name": "python",
   "nbconvert_exporter": "python",
   "pygments_lexer": "ipython3",
   "version": "3.9.6"
  }
 },
 "nbformat": 4,
 "nbformat_minor": 5
}
